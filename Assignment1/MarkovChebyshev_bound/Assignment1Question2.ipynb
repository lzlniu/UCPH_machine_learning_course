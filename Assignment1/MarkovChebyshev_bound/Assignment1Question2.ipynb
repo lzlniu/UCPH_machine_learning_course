{
 "cells": [
  {
   "cell_type": "code",
   "execution_count": 3,
   "metadata": {},
   "outputs": [
    {
     "name": "stdout",
     "output_type": "stream",
     "text": [
      "609271\n",
      "323706\n",
      "133463\n",
      "43336\n",
      "11232\n",
      "2377\n",
      "408\n",
      "53\n",
      "6\n",
      "0\n",
      "0\n",
      "0\n",
      "0\n",
      "0\n",
      "0\n",
      "0\n",
      "0\n",
      "0\n",
      "0\n"
     ]
    }
   ],
   "source": [
    "import numpy as np\n",
    "\n",
    "def bias_func(prob,step_num,sample_size):\n",
    "    count=np.array(np.arange(step_num))\n",
    "    x = np.random.binomial(n=20, p=prob, size=sample_size)\n",
    "    x = x/20\n",
    "    for o in range(step_num):\n",
    "        count[o]=sum(x>=round(prob+0.05*o,2)) #this is the count of average that greater than alpha\n",
    "    return count\n",
    "\n",
    "prob=0.1 #this can change to 0.5 to get the plot of 0.5 (or can change to any other frequency value)\n",
    "sample_size=1000000\n",
    "step_num=int(round((1-prob)/0.05,1)+1) #this is to count how many 0.05 steps it needs from bias probability to reach 1.0\n",
    "count=bias_func(prob,step_num,sample_size)\n",
    "for i in range(step_num):print(count[i])"
   ]
  },
  {
   "cell_type": "code",
   "execution_count": 4,
   "metadata": {
    "scrolled": true
   },
   "outputs": [
    {
     "data": {
      "text/plain": [
       "<matplotlib.legend.Legend at 0x2653730e348>"
      ]
     },
     "execution_count": 4,
     "metadata": {},
     "output_type": "execute_result"
    },
    {
     "data": {
      "image/png": "[encoded data removed]",
      "text/plain": [
       "<Figure size 432x288 with 1 Axes>"
      ]
     },
     "metadata": {
      "needs_background": "light"
     },
     "output_type": "display_data"
    }
   ],
   "source": [
    "import matplotlib.pyplot as plt\n",
    "E=prob #the expectation is equal to the probability in each one Bernoulli experiment.\n",
    "V=prob*(1-prob)/20 #V is Var[X], this from the binomial distribution\n",
    "x=[]\n",
    "y1=[]\n",
    "y2=[]\n",
    "y3=[]\n",
    "for i in range(step_num):\n",
    "    x.append(prob+0.05*i)\n",
    "    y1.append(count[i]/sample_size) #this is the empirical frequency\n",
    "    y2.append(E/(prob+0.05*i)) #this is the Markov's bound\n",
    "    k=prob+0.05*i-E #this is from Chebyshev's inequality, we need to solve k, so similar to Markov's inequality, move the E(X) to the right hand side of the equation, we got k=alpha-E(X)\n",
    "    if(k==0):\n",
    "        y3.append(1.0)\n",
    "    elif(pow((1/k),2)*V>=1):\n",
    "        y3.append(1.0)\n",
    "    else:\n",
    "        y3.append(pow((1/k),2)*V) #this is the Chebyshev's bound\n",
    "#print('empirical frequency:',y1,'\\nMarkov\\'s bound:',y2,'\\nChebyshev\\'s bound:',y3)\n",
    "fig, ax = plt.subplots()\n",
    "ax.plot(x,y1,'-',label='empirical frequency')\n",
    "ax.plot(x,y2,'-',label='Markov\\'s bound')\n",
    "ax.plot(x,y3,'-',label='Chebyshev\\'s bound')\n",
    "ax.set_xlabel('α-value')\n",
    "ax.set_ylabel('frequency')\n",
    "ax.legend()"
   ]
  },
  {
   "cell_type": "code",
   "execution_count": 5,
   "metadata": {},
   "outputs": [],
   "source": [
    "fig.savefig('Assignment1Question2Plot3.pdf')"
   ]
  },
  {
   "cell_type": "code",
   "execution_count": null,
   "metadata": {},
   "outputs": [],
   "source": []
  },
  {
   "cell_type": "code",
   "execution_count": null,
   "metadata": {},
   "outputs": [],
   "source": []
  },
  {
   "cell_type": "code",
   "execution_count": null,
   "metadata": {},
   "outputs": [],
   "source": []
  }
 ],
 "metadata": {
  "kernelspec": {
   "display_name": "Python 3",
   "language": "python",
   "name": "python3"
  },
  "language_info": {
   "codemirror_mode": {
    "name": "ipython",
    "version": 3
   },
   "file_extension": ".py",
   "mimetype": "text/x-python",
   "name": "python",
   "nbconvert_exporter": "python",
   "pygments_lexer": "ipython3",
   "version": "3.7.5"
  },
  "toc": {
   "base_numbering": 1,
   "nav_menu": {},
   "number_sections": true,
   "sideBar": true,
   "skip_h1_title": false,
   "title_cell": "Table of Contents",
   "title_sidebar": "Contents",
   "toc_cell": false,
   "toc_position": {},
   "toc_section_display": true,
   "toc_window_display": false
  }
 },
 "nbformat": 4,
 "nbformat_minor": 4
}
