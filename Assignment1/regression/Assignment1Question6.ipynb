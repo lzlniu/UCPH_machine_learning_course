{
 "cells": [
  {
   "cell_type": "code",
   "execution_count": 1,
   "metadata": {},
   "outputs": [
    {
     "name": "stdout",
     "output_type": "stream",
     "text": [
      "[[ 1.   0.6]\n",
      " [ 6.   3.4]\n",
      " [ 1.   1.6]\n",
      " [ 6.   9.7]\n",
      " [ 1.   0.5]\n",
      " [ 6.   8.6]\n",
      " [ 1.   1.2]\n",
      " [ 7.   4. ]\n",
      " [ 2.   2. ]\n",
      " [ 7.   5.5]\n",
      " [ 2.   1.3]\n",
      " [ 7.  10.5]\n",
      " [ 2.   2.5]\n",
      " [ 8.  17.5]\n",
      " [ 3.   2.2]\n",
      " [ 8.  13.4]\n",
      " [ 3.   2.4]\n",
      " [ 8.   4.5]\n",
      " [ 3.   1.2]\n",
      " [ 9.  30.4]\n",
      " [ 4.   3.5]\n",
      " [11.  12.4]\n",
      " [ 4.   4.1]\n",
      " [12.  13.4]\n",
      " [ 4.   5.1]\n",
      " [12.  26.2]\n",
      " [ 5.   5.7]\n",
      " [12.   7.4]]\n"
     ]
    }
   ],
   "source": [
    "import numpy as np\n",
    "data = np.genfromtxt('PCB.dt', delimiter='\\t')\n",
    "print(data)"
   ]
  },
  {
   "cell_type": "code",
   "execution_count": 2,
   "metadata": {},
   "outputs": [
    {
     "name": "stdout",
     "output_type": "stream",
     "text": [
      "x:\n",
      " [[ 1.]\n",
      " [ 6.]\n",
      " [ 1.]\n",
      " [ 6.]\n",
      " [ 1.]\n",
      " [ 6.]\n",
      " [ 1.]\n",
      " [ 7.]\n",
      " [ 2.]\n",
      " [ 7.]\n",
      " [ 2.]\n",
      " [ 7.]\n",
      " [ 2.]\n",
      " [ 8.]\n",
      " [ 3.]\n",
      " [ 8.]\n",
      " [ 3.]\n",
      " [ 8.]\n",
      " [ 3.]\n",
      " [ 9.]\n",
      " [ 4.]\n",
      " [11.]\n",
      " [ 4.]\n",
      " [12.]\n",
      " [ 4.]\n",
      " [12.]\n",
      " [ 5.]\n",
      " [12.]]\n",
      "y:\n",
      " [ 0.6  3.4  1.6  9.7  0.5  8.6  1.2  4.   2.   5.5  1.3 10.5  2.5 17.5\n",
      "  2.2 13.4  2.4  4.5  1.2 30.4  3.5 12.4  4.1 13.4  5.1 26.2  5.7  7.4]\n"
     ]
    }
   ],
   "source": [
    "x = data[...,0].reshape(-1, 1)  # Take first column, and reshape it to 2D vector\n",
    "y = data[...,1]  # Take second column\n",
    "print(\"x:\\n\", x)\n",
    "print(\"y:\\n\", y)"
   ]
  },
  {
   "cell_type": "code",
   "execution_count": 3,
   "metadata": {},
   "outputs": [],
   "source": [
    "c=np.array(np.arange(x.shape[0]))\n",
    "for i in range(x.shape[0]):c[i]=1\n",
    "x1 = np.c_[x,c] #add a column of 1 in matrix x after its last column\n",
    "def reg_func(x,y):\n",
    "    w=np.dot(np.dot(np.linalg.pinv(np.dot(x.T,x)),x.T),y) #this is the formula: w=(x^T·x)^(-1)·x^T·y\n",
    "    return w"
   ]
  },
  {
   "cell_type": "code",
   "execution_count": 4,
   "metadata": {},
   "outputs": [
    {
     "name": "stdout",
     "output_type": "stream",
     "text": [
      "w2:\n",
      " [ 1.55777052 -1.45194395]\n"
     ]
    },
    {
     "data": {
      "image/png": "[encoded data removed]",
      "text/plain": [
       "<Figure size 432x288 with 1 Axes>"
      ]
     },
     "metadata": {
      "needs_background": "light"
     },
     "output_type": "display_data"
    }
   ],
   "source": [
    "import matplotlib.pyplot as plt\n",
    "fig, ax = plt.subplots()\n",
    "w=reg_func(x1,y)\n",
    "print(\"w2:\\n\",w)\n",
    "predict=np.dot(x1,w.T) #this is the regression prediction result of y\n",
    "ax.plot(x, y, 'o', label='measurements')\n",
    "ax.plot(x, predict, '-', label='prediction')\n",
    "ax.set_xlabel('Age (yrs.)')\n",
    "ax.set_ylabel('PCB Conc. (ppm)')\n",
    "ax.legend();"
   ]
  },
  {
   "cell_type": "code",
   "execution_count": 5,
   "metadata": {},
   "outputs": [],
   "source": [
    "#fig.savefig('Assignment1Question6Plot1.pdf')"
   ]
  },
  {
   "cell_type": "code",
   "execution_count": 6,
   "metadata": {},
   "outputs": [
    {
     "name": "stdout",
     "output_type": "stream",
     "text": [
      "w2:\n",
      " [0.25912824 0.03147247]\n"
     ]
    },
    {
     "data": {
      "image/png": "[encoded data removed]",
      "text/plain": [
       "<Figure size 432x288 with 1 Axes>"
      ]
     },
     "metadata": {
      "needs_background": "light"
     },
     "output_type": "display_data"
    }
   ],
   "source": [
    "fig2, a2x = plt.subplots()\n",
    "y2=np.log(y)\n",
    "w2=reg_func(x1,y2)\n",
    "predict2=np.dot(x1,w2.T)\n",
    "print(\"w2:\\n\",w2)\n",
    "a2x.plot(x, y2, 'o', label='measurements')\n",
    "a2x.plot(x, predict2, '-', label='prediction')\n",
    "a2x.set_xlabel('Age (yrs.)')\n",
    "a2x.set_ylabel('log PCB Conc. (ppm)')\n",
    "a2x.legend();"
   ]
  },
  {
   "cell_type": "code",
   "execution_count": 7,
   "metadata": {},
   "outputs": [],
   "source": [
    "#fig2.savefig('Assignment1Question6Plot2.pdf')"
   ]
  },
  {
   "cell_type": "code",
   "execution_count": 8,
   "metadata": {},
   "outputs": [
    {
     "name": "stdout",
     "output_type": "stream",
     "text": [
      "0.29853492489386174\n"
     ]
    }
   ],
   "source": [
    "def mean_error(a,predict_a):\n",
    "    err = (np.square(a - predict_a)).mean(axis=0)\n",
    "    return err\n",
    "err=mean_error(y,predict)\n",
    "err2=mean_error(y2,predict2)\n",
    "print(err2)"
   ]
  },
  {
   "cell_type": "code",
   "execution_count": 9,
   "metadata": {},
   "outputs": [
    {
     "name": "stdout",
     "output_type": "stream",
     "text": [
      "0.7313915439623446\n"
     ]
    }
   ],
   "source": [
    "def R_func(a,predict_a):\n",
    "    R=1-((np.square(a - predict_a)).sum(axis=0)/(np.square(a - np.mean(a))).sum(axis=0))\n",
    "    return R\n",
    "R=R_func(y,predict)\n",
    "R2=R_func(y2,predict2)\n",
    "print(R2)"
   ]
  },
  {
   "cell_type": "code",
   "execution_count": 10,
   "metadata": {},
   "outputs": [
    {
     "name": "stdout",
     "output_type": "stream",
     "text": [
      "w3:\n",
      " [ 1.1986063  -1.19475082]\n"
     ]
    },
    {
     "data": {
      "image/png": "[encoded data removed]",
      "text/plain": [
       "<Figure size 432x288 with 1 Axes>"
      ]
     },
     "metadata": {
      "needs_background": "light"
     },
     "output_type": "display_data"
    }
   ],
   "source": [
    "fig3, a3x = plt.subplots()\n",
    "x3=np.sqrt(x1)\n",
    "y3=np.log(y)\n",
    "w3=reg_func(x3,y3)\n",
    "predict3=np.dot(x3,w3.T)\n",
    "print(\"w3:\\n\",w3)\n",
    "a3x.plot(x, y3, '.', label='measurements')\n",
    "a3x.plot(x, predict3, 'o', label='prediction')\n",
    "a3x.set_xlabel('Age (yrs.)')\n",
    "a3x.set_ylabel('log PCB Conc. (ppm)')\n",
    "a3x.legend();"
   ]
  },
  {
   "cell_type": "code",
   "execution_count": 11,
   "metadata": {},
   "outputs": [],
   "source": [
    "#fig3.savefig('Assignment1Question6Plot3.pdf')"
   ]
  },
  {
   "cell_type": "code",
   "execution_count": 12,
   "metadata": {},
   "outputs": [
    {
     "name": "stdout",
     "output_type": "stream",
     "text": [
      "0.2377249626004808\n",
      "0.7861056451320498\n"
     ]
    }
   ],
   "source": [
    "err3=mean_error(y3,predict3)\n",
    "print(err3)\n",
    "R3=R_func(y3,predict3)\n",
    "print(R3)"
   ]
  },
  {
   "cell_type": "code",
   "execution_count": null,
   "metadata": {},
   "outputs": [],
   "source": []
  },
  {
   "cell_type": "code",
   "execution_count": null,
   "metadata": {},
   "outputs": [],
   "source": []
  }
 ],
 "metadata": {
  "kernelspec": {
   "display_name": "Python 3",
   "language": "python",
   "name": "python3"
  },
  "language_info": {
   "codemirror_mode": {
    "name": "ipython",
    "version": 3
   },
   "file_extension": ".py",
   "mimetype": "text/x-python",
   "name": "python",
   "nbconvert_exporter": "python",
   "pygments_lexer": "ipython3",
   "version": "3.7.5"
  },
  "toc": {
   "base_numbering": 1,
   "nav_menu": {},
   "number_sections": true,
   "sideBar": true,
   "skip_h1_title": false,
   "title_cell": "Table of Contents",
   "title_sidebar": "Contents",
   "toc_cell": false,
   "toc_position": {},
   "toc_section_display": true,
   "toc_window_display": false
  }
 },
 "nbformat": 4,
 "nbformat_minor": 4
}
