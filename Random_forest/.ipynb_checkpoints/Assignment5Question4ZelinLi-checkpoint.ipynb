{
 "cells": [
  {
   "cell_type": "code",
   "execution_count": 1,
   "metadata": {},
   "outputs": [],
   "source": [
    "import numpy as np\n",
    "import matplotlib.pyplot as plt\n",
    "from sklearn.ensemble import RandomForestClassifier\n",
    "\n",
    "train=np.loadtxt('parkinsonsTrainStatML.dt')\n",
    "test=np.loadtxt('parkinsonsTestStatML.dt')\n",
    "train_input=train[:,0:22]\n",
    "train_result=train[:,22]\n",
    "test_input=test[:,0:22]\n",
    "test_result=test[:,22]\n",
    "#print(train_input)\n",
    "#print(train_result)\n",
    "#print(test_input)\n",
    "#print(test_result)"
   ]
  },
  {
   "cell_type": "code",
   "execution_count": 2,
   "metadata": {},
   "outputs": [
    {
     "data": {
      "text/plain": [
       "RandomForestClassifier(n_estimators=50)"
      ]
     },
     "execution_count": 2,
     "metadata": {},
     "output_type": "execute_result"
    }
   ],
   "source": [
    "clf=RandomForestClassifier(n_estimators=50,bootstrap=True)\n",
    "clf.fit(train_input,train_result)"
   ]
  },
  {
   "cell_type": "code",
   "execution_count": 3,
   "metadata": {},
   "outputs": [
    {
     "name": "stdout",
     "output_type": "stream",
     "text": [
      "Error rate: 0.12371134020618557 \n",
      "Accuracy: 0.8762886597938144\n"
     ]
    }
   ],
   "source": [
    "pred=clf.predict(test_input)\n",
    "err=np.mean(pred != test_result)\n",
    "print(\"Error rate:\",err,\"\\nAccuracy:\",1-err)"
   ]
  },
  {
   "cell_type": "code",
   "execution_count": 4,
   "metadata": {},
   "outputs": [
    {
     "data": {
      "image/png": "[encoded data removed]",
      "text/plain": [
       "<Figure size 432x288 with 1 Axes>"
      ]
     },
     "metadata": {
      "needs_background": "light"
     },
     "output_type": "display_data"
    }
   ],
   "source": [
    "prob=clf.predict_proba(test_input)\n",
    "plt.bar(range(len(prob[:,1])),prob[:,1],fc='blue',alpha=0.6,ls='--',label='vote 1')\n",
    "plt.bar(range(len(prob[:,0])),prob[:,0],bottom=prob[:,1],fc='yellow',alpha=1,ls='--',label='vote 0')\n",
    "plt.legend()\n",
    "plt.xlabel(\"samples' serial number (total 97 columns)\")\n",
    "plt.ylabel(\"probability (cumulative)\")\n",
    "plt.savefig('.\\Assignment5Question4Plot1.pdf')\n",
    "plt.show()"
   ]
  },
  {
   "cell_type": "code",
   "execution_count": null,
   "metadata": {},
   "outputs": [],
   "source": []
  }
 ],
 "metadata": {
  "kernelspec": {
   "display_name": "Python 3",
   "language": "python",
   "name": "python3"
  },
  "language_info": {
   "codemirror_mode": {
    "name": "ipython",
    "version": 3
   },
   "file_extension": ".py",
   "mimetype": "text/x-python",
   "name": "python",
   "nbconvert_exporter": "python",
   "pygments_lexer": "ipython3",
   "version": "3.7.5"
  },
  "toc": {
   "base_numbering": 1,
   "nav_menu": {},
   "number_sections": true,
   "sideBar": true,
   "skip_h1_title": false,
   "title_cell": "Table of Contents",
   "title_sidebar": "Contents",
   "toc_cell": false,
   "toc_position": {},
   "toc_section_display": true,
   "toc_window_display": false
  }
 },
 "nbformat": 4,
 "nbformat_minor": 4
}
