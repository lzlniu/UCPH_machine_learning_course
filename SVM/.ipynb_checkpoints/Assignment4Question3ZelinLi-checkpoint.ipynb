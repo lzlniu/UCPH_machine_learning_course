{
 "cells": [
  {
   "cell_type": "code",
   "execution_count": 1,
   "metadata": {},
   "outputs": [],
   "source": [
    "import numpy as np\n",
    "from sklearn import svm\n",
    "\n",
    "train=np.loadtxt('parkinsonsTrainStatML.dt')\n",
    "test=np.loadtxt('parkinsonsTestStatML.dt')\n",
    "trainT=np.transpose(train)\n",
    "testT=np.transpose(test)"
   ]
  },
  {
   "cell_type": "code",
   "execution_count": 2,
   "metadata": {},
   "outputs": [
    {
     "name": "stdout",
     "output_type": "stream",
     "text": [
      "Original Averages:\n",
      " [ 1.55960388e+02  2.04821194e+02  1.15058622e+02  5.99785714e-03\n",
      "  4.28877551e-05  3.20418367e-03  3.31540816e-03  9.61295918e-03\n",
      "  2.77400000e-02  2.62408163e-01  1.46761224e-02  1.66144898e-02\n",
      "  2.19880612e-02  4.40281633e-02  2.26390816e-02  2.20007041e+01\n",
      "  4.94819602e-01  7.15689765e-01 -5.76372753e+00  2.14795724e-01\n",
      "  2.36576287e+00  1.99708816e-01  7.34693878e-01] \n",
      "Original Variances:\n",
      " [1.96280920e+03 9.63381571e+03 2.09357394e+03 1.56323454e-05\n",
      " 9.05262911e-10 5.59068556e-06 5.17943912e-06 5.03013168e-05\n",
      " 2.52776890e-04 2.64697314e-02 7.48602666e-05 1.02539466e-04\n",
      " 1.76683701e-04 6.73690070e-04 8.86782604e-04 1.65097280e+01\n",
      " 1.03107075e-02 3.11595818e-03 1.06174931e+00 5.74533305e-03\n",
      " 1.36459832e-01 6.65889223e-03 1.94918784e-01]\n",
      "Normalizaed Averages:\n",
      " [-4.54285136e-16  3.10409295e-16 -2.74157114e-16  1.32547035e-16\n",
      " -3.81214334e-16  2.46967979e-16  7.25043608e-17 -4.53152255e-17\n",
      "  1.45008722e-16 -7.36372414e-17  7.47701221e-17  1.77862260e-16\n",
      "  9.85606155e-17  1.15553825e-16  1.26316191e-16  3.31934027e-16\n",
      " -4.56550897e-16 -8.29410237e-16 -7.32407332e-16 -3.74983491e-16\n",
      "  9.70312266e-16  2.88318122e-16 -8.04345253e-17] \n",
      "Normalizaed Variances:\n",
      " [1. 1. 1. 1. 1. 1. 1. 1. 1. 1. 1. 1. 1. 1. 1. 1. 1. 1. 1. 1. 1. 1. 1.]\n"
     ]
    }
   ],
   "source": [
    "'''\n",
    "def avg(data,diamension):\n",
    "    a=0\n",
    "    for i in range(len(data)):\n",
    "        a+=data[i,diamension]\n",
    "    return a/len(data)\n",
    "\n",
    "a=avg(train,1)\n",
    "print(a)\n",
    "'''\n",
    "def avg_var(data):\n",
    "    aver=np.array(np.ones((len(data),)))\n",
    "    vari=np.array(np.ones((len(data),)))\n",
    "    for i in range(len(data)):\n",
    "        aver[i]=np.mean(data[i])\n",
    "    for i in range(len(data)):\n",
    "        vari[i]=np.var(data[i])\n",
    "    return aver,vari\n",
    "\n",
    "def normal(data,avg,var):\n",
    "    nor_data=data\n",
    "    for i in range(data.shape[0]):\n",
    "        for j in range(data.shape[1]):\n",
    "            nor_data[i,j]=(data[i,j]-avg[i])/np.sqrt(var[i])\n",
    "    return nor_data\n",
    "\n",
    "a,v=avg_var(trainT)\n",
    "print(\"Original Averages:\\n\",a,\"\\nOriginal Variances:\\n\",v)\n",
    "normal_train=normal(trainT,a,v)\n",
    "an,vn=avg_var(normal_train)\n",
    "print(\"Normalizaed Averages:\\n\",an,\"\\nNormalizaed Variances:\\n\",vn)\n",
    "\n",
    "at,vt=avg_var(testT)\n",
    "normal_test=normal(testT,at,vt)\n",
    "atn,vtn=avg_var(normal_test)"
   ]
  },
  {
   "cell_type": "code",
   "execution_count": 3,
   "metadata": {},
   "outputs": [
    {
     "name": "stdout",
     "output_type": "stream",
     "text": [
      "(23, 98)\n",
      "[[ 1.81113064 -0.89551155 -0.89320925 ... -1.16379673 -0.88941724\n",
      "  -0.83298842]\n",
      " [ 0.40591944 -0.2804853  -0.77210033 ...  0.01203038  3.94499138\n",
      "  -0.8110705 ]\n",
      " [-0.28240533 -0.39504731 -0.13306839 ... -0.81062496 -0.63010056\n",
      "  -0.61770863]\n",
      " ...\n",
      " [-0.35344939 -0.83135073 -0.97736674 ...  1.30102875 -0.55177118\n",
      "   0.40756691]\n",
      " [-0.98106396  0.17937278 -0.30979394 ...  0.24270453 -0.96938533\n",
      "   0.39827663]\n",
      " [-1.66410059 -1.66410059 -1.66410059 ...  0.60092521 -1.66410059\n",
      "   0.60092521]]\n"
     ]
    }
   ],
   "source": [
    "print(trainT.shape)\n",
    "print(normal_train)"
   ]
  },
  {
   "cell_type": "code",
   "execution_count": 4,
   "metadata": {},
   "outputs": [
    {
     "name": "stdout",
     "output_type": "stream",
     "text": [
      "(23, 97)\n",
      "[[ 0.04019979  2.34570932  0.95334521 ...  1.17640203 -0.0537869\n",
      "   0.68072315]\n",
      " [-0.34994681  0.71725379  0.32525486 ...  0.21191593 -0.31170124\n",
      "   3.05476375]\n",
      " [ 0.26961338  2.81130343  1.18390429 ...  1.82195752  0.66397644\n",
      "  -0.86974466]\n",
      " ...\n",
      " [-0.84562338 -0.35941612  2.2294058  ... -1.66335941 -0.34027772\n",
      "   1.06466655]\n",
      " [-1.23917096 -0.98977485  2.11399413 ... -1.31772157 -0.71462105\n",
      "   0.39674022]\n",
      " [ 0.54160256 -1.84637236  0.54160256 ... -1.84637236  0.54160256\n",
      "   0.54160256]]\n"
     ]
    }
   ],
   "source": [
    "print(testT.shape)\n",
    "print(normal_test)"
   ]
  },
  {
   "cell_type": "code",
   "execution_count": 5,
   "metadata": {},
   "outputs": [
    {
     "data": {
      "text/plain": [
       "\"\\ndef splitList(lst, n):\\n    n = max(1, n)\\n    return [lst[i:i + n] for i in range(0, len(lst), n)]\\n\\ndef getLoss(parameters, test, train):\\n    (C, gamma)=parameters\\n    classifier=svm.SVC(C=C, kernel='rbf')\\n    classifier.gamma=gamma\\n    result_train=[a[-1] for a in train]\\n    data_train=[a[:-1] for a in train]\\n    result_test=[a[-1] for a in test]\\n    data_test=[a[:-1] for a in test]\\n    classifier.fit(data_train, result_train)\\n    result_classifier=classifier.predict(data_test)\\n    loss=lambda(p,r):0 if p==r else 1\\n    return np.mean(map(loss, zip(result_test, result_classifier)))\\n\\ndef n_fold_cross(n, data, parameters):\\n    accuracy=[]\\n    groups=splitList(data,int(round(len(data)/n,0)))\\n    for i in range(n):\\n        rest=functools.reduce(operator.add, groups[0:i]+groups[i+1:len(groups)])\\n        skip=groups[i]\\n        accuracy.append(getLoss(parameters,skip,rest))\\n    return np.mean(accuracy)\\n\\ndef hyperparameter(data):\\n    C_range = [0.01, 0.1, 1, 10, 100]\\n    gamma_range = [0.001, 0.01, 0.1, 1, 10]\\n    hyperparameter_grid = [pair for pair in itertools.product(C_range, gamma_range)]\\n    results = []\\n    for para in hyperparameter_grid:\\n        result = n_fold_cross(5,data,para) #n=5\\n        results.append((result,para))\\n    return min(results, key = operator.itemgetter(0))\\n\\nprint(hyperparameter(normal_train))\\n\""
      ]
     },
     "execution_count": 5,
     "metadata": {},
     "output_type": "execute_result"
    }
   ],
   "source": [
    "import os\n",
    "import operator\n",
    "import itertools\n",
    "import functools\n",
    "'''\n",
    "def splitList(lst, n):\n",
    "    n = max(1, n)\n",
    "    return [lst[i:i + n] for i in range(0, len(lst), n)]\n",
    "\n",
    "def getLoss(parameters, test, train):\n",
    "    (C, gamma)=parameters\n",
    "    classifier=svm.SVC(C=C, kernel='rbf')\n",
    "    classifier.gamma=gamma\n",
    "    result_train=[a[-1] for a in train]\n",
    "    data_train=[a[:-1] for a in train]\n",
    "    result_test=[a[-1] for a in test]\n",
    "    data_test=[a[:-1] for a in test]\n",
    "    classifier.fit(data_train, result_train)\n",
    "    result_classifier=classifier.predict(data_test)\n",
    "    loss=lambda(p,r):0 if p==r else 1\n",
    "    return np.mean(map(loss, zip(result_test, result_classifier)))\n",
    "\n",
    "def n_fold_cross(n, data, parameters):\n",
    "    accuracy=[]\n",
    "    groups=splitList(data,int(round(len(data)/n,0)))\n",
    "    for i in range(n):\n",
    "        rest=functools.reduce(operator.add, groups[0:i]+groups[i+1:len(groups)])\n",
    "        skip=groups[i]\n",
    "        accuracy.append(getLoss(parameters,skip,rest))\n",
    "    return np.mean(accuracy)\n",
    "\n",
    "def hyperparameter(data):\n",
    "    C_range = [0.01, 0.1, 1, 10, 100]\n",
    "    gamma_range = [0.001, 0.01, 0.1, 1, 10]\n",
    "    hyperparameter_grid = [pair for pair in itertools.product(C_range, gamma_range)]\n",
    "    results = []\n",
    "    for para in hyperparameter_grid:\n",
    "        result = n_fold_cross(5,data,para) #n=5\n",
    "        results.append((result,para))\n",
    "    return min(results, key = operator.itemgetter(0))\n",
    "\n",
    "print(hyperparameter(normal_train))\n",
    "'''"
   ]
  },
  {
   "cell_type": "code",
   "execution_count": null,
   "metadata": {},
   "outputs": [],
   "source": []
  }
 ],
 "metadata": {
  "kernelspec": {
   "display_name": "Python 3",
   "language": "python",
   "name": "python3"
  },
  "language_info": {
   "codemirror_mode": {
    "name": "ipython",
    "version": 3
   },
   "file_extension": ".py",
   "mimetype": "text/x-python",
   "name": "python",
   "nbconvert_exporter": "python",
   "pygments_lexer": "ipython3",
   "version": "3.7.5"
  },
  "toc": {
   "base_numbering": 1,
   "nav_menu": {},
   "number_sections": true,
   "sideBar": true,
   "skip_h1_title": false,
   "title_cell": "Table of Contents",
   "title_sidebar": "Contents",
   "toc_cell": false,
   "toc_position": {},
   "toc_section_display": true,
   "toc_window_display": false
  }
 },
 "nbformat": 4,
 "nbformat_minor": 4
}
